{
  "cells": [
    {
      "cell_type": "markdown",
      "metadata": {
        "id": "view-in-github",
        "colab_type": "text"
      },
      "source": [
        "<a href=\"https://colab.research.google.com/github/aamnatayyab/PythonPrac/blob/main/Assignment_1_completed.ipynb\" target=\"_parent\"><img src=\"https://colab.research.google.com/assets/colab-badge.svg\" alt=\"Open In Colab\"/></a>"
      ]
    },
    {
      "cell_type": "markdown",
      "metadata": {
        "id": "GjHDqVk3Vrt-"
      },
      "source": [
        "# Assignment1 - Python essentials \n",
        "\n",
        "This assignment is going to test your understanding of Python basics. However, completing this assignment will prepare you for the rest of this course. If you don't know how to solve them, look into the Python slides available in the Course Materials/Tutorials and Misc. module."
      ]
    },
    {
      "cell_type": "markdown",
      "metadata": {
        "id": "VFqiHP96Vrt-"
      },
      "source": [
        "#### Answer the questions or complete the tasks outlined below, use the specific method described if applicable."
      ]
    },
    {
      "cell_type": "markdown",
      "metadata": {
        "id": "LwTIHPyiVrt_"
      },
      "source": [
        "#### 1) What is 3 to the power of 5?"
      ]
    },
    {
      "cell_type": "code",
      "execution_count": 1,
      "metadata": {
        "id": "pRYpPPFAVrt_",
        "colab": {
          "base_uri": "https://localhost:8080/"
        },
        "outputId": "7813d3fa-9375-4939-ab61-0b3746be8061"
      },
      "outputs": [
        {
          "output_type": "execute_result",
          "data": {
            "text/plain": [
              "243"
            ]
          },
          "metadata": {},
          "execution_count": 1
        }
      ],
      "source": [
        "# Code cell 1\n",
        "3**5"
      ]
    },
    {
      "cell_type": "markdown",
      "metadata": {
        "id": "qt4C6fGWVruA"
      },
      "source": [
        "#### 2) Create a variable, *`s`*, containing the string \"This course is amazing!\". Using the variable, split the string into a list."
      ]
    },
    {
      "cell_type": "code",
      "execution_count": 2,
      "metadata": {
        "id": "mNWpVsIFVruB",
        "colab": {
          "base_uri": "https://localhost:8080/"
        },
        "outputId": "e91fc4f6-07ff-4379-cedf-e4df8ee28c20"
      },
      "outputs": [
        {
          "output_type": "execute_result",
          "data": {
            "text/plain": [
              "['This', 'course', 'is', 'amazing!']"
            ]
          },
          "metadata": {},
          "execution_count": 2
        }
      ],
      "source": [
        "# Code cell 2\n",
        "s = \"This course is amazing!\"\n",
        "s.split()"
      ]
    },
    {
      "cell_type": "markdown",
      "metadata": {
        "id": "us_UBMFuVruB"
      },
      "source": [
        "#### 3) Given the variables height and mountain, use .format() to print the following string:\n",
        "<center>`The height of Mt. Everest is 8848 meters.`</center>"
      ]
    },
    {
      "cell_type": "code",
      "execution_count": 6,
      "metadata": {
        "id": "gXHiwzk5VruC",
        "colab": {
          "base_uri": "https://localhost:8080/"
        },
        "outputId": "6a6e646b-2b44-4b9c-83b7-a725d5929de8"
      },
      "outputs": [
        {
          "output_type": "stream",
          "name": "stdout",
          "text": [
            "The height of Mt. Everest is 8848 meters.\n"
          ]
        }
      ],
      "source": [
        "# Code cell 3\n",
        "mountain = \"Mt. Everest\"\n",
        "height = 8848\n",
        "print(\"The height of {} is {} meters.\".format( mountain , height))"
      ]
    },
    {
      "cell_type": "markdown",
      "metadata": {
        "id": "D3TDx8k_VruD"
      },
      "source": [
        "#### 4) Given the following nested list, use indexing to grab the word `\"this\"`."
      ]
    },
    {
      "cell_type": "code",
      "execution_count": 9,
      "metadata": {
        "id": "irAq1-nlVruD",
        "colab": {
          "base_uri": "https://localhost:8080/",
          "height": 36
        },
        "outputId": "9ee4d8dc-6693-450c-b103-883f82c2ef68"
      },
      "outputs": [
        {
          "output_type": "execute_result",
          "data": {
            "text/plain": [
              "'this'"
            ],
            "application/vnd.google.colaboratory.intrinsic+json": {
              "type": "string"
            }
          },
          "metadata": {},
          "execution_count": 9
        }
      ],
      "source": [
        "# Code cell 4\n",
        "lst = ['a','b',[4,10,11],['c',[1,66,['this']],2,111],'e',7]\n",
        "lst[3][1][2][0]"
      ]
    },
    {
      "cell_type": "markdown",
      "metadata": {
        "id": "cmEuUY3GVruD"
      },
      "source": [
        "#### 5) Given the following nested dictionary, grab the word \"that\". This exercise is a little more difficult."
      ]
    },
    {
      "cell_type": "code",
      "execution_count": 16,
      "metadata": {
        "id": "Mr9A3uzFVruE",
        "colab": {
          "base_uri": "https://localhost:8080/",
          "height": 36
        },
        "outputId": "fea8f8f5-edae-49a2-9100-0e1e01f28ffd"
      },
      "outputs": [
        {
          "output_type": "execute_result",
          "data": {
            "text/plain": [
              "'that'"
            ],
            "application/vnd.google.colaboratory.intrinsic+json": {
              "type": "string"
            }
          },
          "metadata": {},
          "execution_count": 16
        }
      ],
      "source": [
        "# Code cell 5\n",
        "d = {'k1':['val1','val2','val3',{'we':['need','to','go',{'deeper':[1,2,3,'that']}]}]}\n",
        "d['k1'][3]['we'][3]['deeper'][3]"
      ]
    },
    {
      "cell_type": "markdown",
      "metadata": {
        "id": "FEj-mhgMVruE"
      },
      "source": [
        "#### 6) What is the main difference between a tuple and a list? "
      ]
    },
    {
      "cell_type": "markdown",
      "metadata": {
        "collapsed": true,
        "id": "S7dtqylGVruE"
      },
      "source": [
        "Tuple is immutable while lists are mutable e.g. we can not change tuple elements like we do in lists (list[0] = 'Another Value'). However for tuple, (tuple[0] = 'Another value') will give an error."
      ]
    },
    {
      "cell_type": "markdown",
      "metadata": {
        "id": "RA4yolM7VruE"
      },
      "source": [
        "#### 7) Create a function, GetDomain(), that grabs the email website domain from a string in the form:  `user@domain.com`.\n",
        "So for example, passing \"user@domain.com\" would return: domain.com"
      ]
    },
    {
      "cell_type": "code",
      "execution_count": 19,
      "metadata": {
        "id": "GIHJvJUfVruF",
        "colab": {
          "base_uri": "https://localhost:8080/",
          "height": 36
        },
        "outputId": "490a65d6-a289-47c8-89a6-7fcf65a228b8"
      },
      "outputs": [
        {
          "output_type": "execute_result",
          "data": {
            "text/plain": [
              "'domain.com'"
            ],
            "application/vnd.google.colaboratory.intrinsic+json": {
              "type": "string"
            }
          },
          "metadata": {},
          "execution_count": 19
        }
      ],
      "source": [
        "# Code cell 6\n",
        "def GetDomain(email):\n",
        "   return email.split('@')[-1]\n",
        "GetDomain('user@domain.com')"
      ]
    },
    {
      "cell_type": "markdown",
      "metadata": {
        "id": "5ANhWVYJVruF"
      },
      "source": [
        "#### 8) Create a basic function, findInternet(), that returns True if the word 'Internet' is contained in the input string. Don't worry about edge cases like punctuation being attached to the word, but account for capitalization. (Hint: Please see https://docs.python.org/2/reference/expressions.html#in)"
      ]
    },
    {
      "cell_type": "code",
      "execution_count": 26,
      "metadata": {
        "id": "pP9EgPUqVruF",
        "colab": {
          "base_uri": "https://localhost:8080/"
        },
        "outputId": "ff604c28-917c-4090-d9f6-2f42c16d5f64"
      },
      "outputs": [
        {
          "output_type": "execute_result",
          "data": {
            "text/plain": [
              "True"
            ]
          },
          "metadata": {},
          "execution_count": 26
        }
      ],
      "source": [
        "# Code cell 7\n",
        "def findInternet(string):\n",
        "    return 'internet' in string.lower().split()\n",
        "findInternet('The Internet Engineering Task Force was created in 1986')"
      ]
    },
    {
      "cell_type": "markdown",
      "metadata": {
        "id": "sjIvE-k9VruG"
      },
      "source": [
        "#### 9) Create a function, countIoT(), that counts the number of times the word \"IoT\" occurs in a string.  Ignore edge cases but take into account capitalization."
      ]
    },
    {
      "cell_type": "code",
      "execution_count": 37,
      "metadata": {
        "id": "r_XpvGqFVruG",
        "colab": {
          "base_uri": "https://localhost:8080/"
        },
        "outputId": "fefff1a0-1585-46c2-a7cd-1d42704e7fce"
      },
      "outputs": [
        {
          "output_type": "execute_result",
          "data": {
            "text/plain": [
              "4"
            ]
          },
          "metadata": {},
          "execution_count": 37
        }
      ],
      "source": [
        "# Code cell 8\n",
        "def countIoT(st):\n",
        "   count = 0\n",
        "   ls = st.lower().split()\n",
        "   for i in ls:\n",
        "     if i == \"iot\":\n",
        "       count+=1\n",
        "   return count\n",
        "countIoT('I don\\'t know how to spell IoT ! Is it IoT or iot ? What does iot mean anyway?')"
      ]
    },
    {
      "cell_type": "markdown",
      "metadata": {
        "id": "t6ryQkZwVruG"
      },
      "source": [
        "#### 10) Use lambda expressions and the filter() function to filter out words from a list that do not start with the letter 'd'. For example:\n",
        "\n",
        "    seq = ['data','salt' ,'dairy','cat', 'dog']\n",
        "\n",
        "should be filtered down to:\n",
        "\n",
        "    ['data', 'dairy', 'dog']"
      ]
    },
    {
      "cell_type": "code",
      "execution_count": 48,
      "metadata": {
        "id": "JEIXX1moVruG",
        "colab": {
          "base_uri": "https://localhost:8080/"
        },
        "outputId": "326ca7b3-cc75-4f7b-a867-84e1677c17d0"
      },
      "outputs": [
        {
          "output_type": "execute_result",
          "data": {
            "text/plain": [
              "['data', 'dairy', 'dog']"
            ]
          },
          "metadata": {},
          "execution_count": 48
        }
      ],
      "source": [
        "# Code cell 9\n",
        "seq = ['data','salt' ,'dairy','cat', 'dog']\n",
        "list(filter(lambda x: (x[0] == 'd'),seq))\n"
      ]
    },
    {
      "cell_type": "markdown",
      "metadata": {
        "id": "FBODm8zCVruH"
      },
      "source": [
        "#### 11) Use  lambda expressions and the map() function to convert a list of words to upper case. For example:"
      ]
    },
    {
      "cell_type": "markdown",
      "metadata": {
        "id": "XupgILDhVruH"
      },
      "source": [
        "seq = ['data','salt' ,'dairy','cat', 'dog']\n",
        "\n",
        "should become:\n",
        "\n",
        "   ['DATA', 'SALT', 'DAIRY', 'CAT', 'DOG']"
      ]
    },
    {
      "cell_type": "code",
      "execution_count": 50,
      "metadata": {
        "id": "7qk3SdetVruH",
        "colab": {
          "base_uri": "https://localhost:8080/"
        },
        "outputId": "d5082fd4-70e4-428b-96ee-aaa6b19fef2f"
      },
      "outputs": [
        {
          "output_type": "execute_result",
          "data": {
            "text/plain": [
              "['DATA', 'SALT', 'DAIRY', 'CAT', 'DOG']"
            ]
          },
          "metadata": {},
          "execution_count": 50
        }
      ],
      "source": [
        "# Code cell 10\n",
        "list(map(lambda x: x.upper(), seq))"
      ]
    },
    {
      "cell_type": "markdown",
      "metadata": {
        "id": "sB5epi8gVruH"
      },
      "source": [
        "#### 12) Imagine a smart thermostat that is connected to the door, so that it can detect, in addition to the temperature, when people enter or leave the house. \n",
        "Write a function that, if the temperature is lower than 20 degrees Celsius, and there are people in the house (encoded as a boolean value to be passed as a parameter to the function), turns on the heating by returning the string \"Heating on\". When the temperature reaches 23 degrees or there are no people in the house, it returns the string \"Heating off\". When none of these conditions are met, the function returns \"Do nothing\"."
      ]
    },
    {
      "cell_type": "code",
      "execution_count": 51,
      "metadata": {
        "id": "o2_CDz1BVruH"
      },
      "outputs": [],
      "source": [
        "# Code cell 11\n",
        "def smart_thermostat(temp, people_in):\n",
        "   if temp < 20 and people_in:\n",
        "     command = \"Heating on\"\n",
        "   elif temp == 23 or not people_in:\n",
        "      command = \"Heating off\"\n",
        "   else:\n",
        "     command = \"Do nothing\"\n",
        "   return command"
      ]
    },
    {
      "cell_type": "code",
      "execution_count": 52,
      "metadata": {
        "id": "1WS1_q2oVruI",
        "colab": {
          "base_uri": "https://localhost:8080/",
          "height": 36
        },
        "outputId": "c02aff25-f4b6-4dc1-fecf-9b0227a8080c"
      },
      "outputs": [
        {
          "output_type": "execute_result",
          "data": {
            "text/plain": [
              "'Do nothing'"
            ],
            "application/vnd.google.colaboratory.intrinsic+json": {
              "type": "string"
            }
          },
          "metadata": {},
          "execution_count": 52
        }
      ],
      "source": [
        "# Code cell 12\n",
        "# Verify smart_thermostat()\n",
        "smart_thermostat(21,True)"
      ]
    },
    {
      "cell_type": "code",
      "execution_count": 58,
      "metadata": {
        "id": "eFlYx6J4VruI",
        "colab": {
          "base_uri": "https://localhost:8080/",
          "height": 36
        },
        "outputId": "96816740-1b8c-4f38-e287-b3f4d0a05b01"
      },
      "outputs": [
        {
          "output_type": "execute_result",
          "data": {
            "text/plain": [
              "'Heating off'"
            ],
            "application/vnd.google.colaboratory.intrinsic+json": {
              "type": "string"
            }
          },
          "metadata": {},
          "execution_count": 58
        }
      ],
      "source": [
        "# Code cell 13\n",
        "# Verify smart_thermostat()\n",
        "smart_thermostat(21,False)"
      ]
    },
    {
      "cell_type": "markdown",
      "metadata": {
        "id": "0nke5V5lVruI"
      },
      "source": [
        "#### 13)  The function zip(list1, list2) returns a list of tuples, where the i-th tuple contains the i-th element from each of the argument lists. Use the zip function to create the following list of tuples:"
      ]
    },
    {
      "cell_type": "markdown",
      "metadata": {
        "id": "hh5emoY4VruI"
      },
      "source": [
        "`zipped = [('Parking', -1), ('Shops',0), ('Food Court',1), ('Offices',2)]`"
      ]
    },
    {
      "cell_type": "code",
      "execution_count": 60,
      "metadata": {
        "id": "90lm2FSMVruI",
        "colab": {
          "base_uri": "https://localhost:8080/"
        },
        "outputId": "fcc1dd0f-71fb-4f17-a3d1-a8e7ba8d0f95"
      },
      "outputs": [
        {
          "output_type": "stream",
          "name": "stdout",
          "text": [
            "[('Parking', -1), ('Shops', 0), ('Food Court', 1), ('Offices', 2)]\n"
          ]
        }
      ],
      "source": [
        "# Code cell 14\n",
        "floor_types = ['Parking', 'Shops', 'Food Court', 'Offices']\n",
        "floor_numbers = range(-1,3)\n",
        "zipped = list(zip(floor_types,floor_numbers)) \n",
        "print(zipped)"
      ]
    },
    {
      "cell_type": "markdown",
      "metadata": {
        "id": "DZSsCvcGVruI"
      },
      "source": [
        "#### 14) Use the zip function and dict() to create a dictionary, elevator_dict, where the keys are the floor types and the values are the corresponding floor number so that:\n",
        "elevator_dict[-1] = 'Parking'"
      ]
    },
    {
      "cell_type": "code",
      "execution_count": 65,
      "metadata": {
        "id": "9kwwzYf-VruI",
        "colab": {
          "base_uri": "https://localhost:8080/"
        },
        "outputId": "351711ad-6be3-4826-876a-8367dc856183"
      },
      "outputs": [
        {
          "output_type": "stream",
          "name": "stdout",
          "text": [
            "{-1: 'Parking', 0: 'Shops', 1: 'Food Court', 2: 'Offices'}\n"
          ]
        }
      ],
      "source": [
        "# Code cell 15\n",
        "floor_types = ['Parking', 'Shops', 'Food Court', 'Offices']\n",
        "floors_numbers = range(-1,3)\n",
        "elevator_dict = dict(zip(floor_numbers, floor_types))\n",
        "print(elevator_dict)"
      ]
    },
    {
      "cell_type": "code",
      "execution_count": 66,
      "metadata": {
        "id": "En6dNOiTVruJ",
        "colab": {
          "base_uri": "https://localhost:8080/",
          "height": 36
        },
        "outputId": "7220d963-555a-4ef7-b94e-7eaa0dee283b"
      },
      "outputs": [
        {
          "output_type": "execute_result",
          "data": {
            "text/plain": [
              "'Parking'"
            ],
            "application/vnd.google.colaboratory.intrinsic+json": {
              "type": "string"
            }
          },
          "metadata": {},
          "execution_count": 66
        }
      ],
      "source": [
        "# Code cell 16\n",
        "# Verify elevator_dict[-1]\n",
        "elevator_dict[-1]"
      ]
    },
    {
      "cell_type": "markdown",
      "metadata": {
        "id": "sDkAMtI5VruJ"
      },
      "source": [
        "#### 15) Create an `Elevator` class. The constructor accepts the list of strings `floor_types` and the list of integers `floor_numbers`. The class implemets the methods 'ask_which_floor'  and 'go_to_floor'. The output of this methods should look as follows:\n",
        "`floor_types = ['Parking', 'Shops', 'Food Court', 'Offices']\n",
        "floors_numbers = range(-1,4)\n",
        "\n",
        "el = Elevator(floor_numbers, floor_types)\n",
        "\n",
        "el.go_to_floor(1)`\n",
        "\n",
        "`Going to Food Court floor!`\n",
        "\n",
        "`el.go_to_floor(-2)`\n",
        "\n",
        "`There is floor number -2 in this building.`\n",
        "\n",
        "`el.ask_which_floor('Offices')`\n",
        "\n",
        "`The floor Offices is the number: 2`\n",
        "\n",
        "`el.ask_which_floor('Swimming Pool')`\n",
        "\n",
        "`There is no Swimming Pool floor in this building.`"
      ]
    },
    {
      "cell_type": "code",
      "execution_count": 75,
      "metadata": {
        "id": "lIy_sJnWVruJ"
      },
      "outputs": [],
      "source": [
        "# Code cell 17\n",
        "class Elevator:\n",
        "    \n",
        "    def __init__(self, floor_numbers, floor_types):\n",
        "        self._floor_numbers = floor_numbers\n",
        "        self._floor_types = floor_types\n",
        "        self._number_to_type_dict = dict(zip(floor_numbers, floor_types)) \n",
        "        self._type_to_number_dict = dict(zip(floor_types, floor_numbers)) \n",
        "        \n",
        "    def ask_which_floor(self, floor_type):    \n",
        "        if floor_type in self._floor_types:\n",
        "            print('The {} floor is the number: {}.'.format(floor_type, self._type_to_number_dict[floor_type]))\n",
        "        else:\n",
        "            print('There is no {} floor in this building.'.format(floor_type))\n",
        "    \n",
        "    def go_to_floor(self, floor_number):\n",
        "        if floor_number in self._floor_numbers:\n",
        "          print(f'Going to {self._number_to_type_dict[floor_number]} floor!')\n",
        "        else:\n",
        "          print(f'There is floor number {floor_number} in this building.')"
      ]
    },
    {
      "cell_type": "code",
      "execution_count": 76,
      "metadata": {
        "id": "i49ZAkzIVruJ",
        "colab": {
          "base_uri": "https://localhost:8080/"
        },
        "outputId": "ac6806f8-7d7b-4bfb-a197-0b8ffab726a4"
      },
      "outputs": [
        {
          "output_type": "stream",
          "name": "stdout",
          "text": [
            "Going to Food Court floor!\n"
          ]
        }
      ],
      "source": [
        "# Verify code cell 18\n",
        "el = Elevator(floor_numbers, floor_types)\n",
        "el.go_to_floor(1)"
      ]
    },
    {
      "cell_type": "code",
      "execution_count": 77,
      "metadata": {
        "id": "657YtZPbVruJ",
        "colab": {
          "base_uri": "https://localhost:8080/"
        },
        "outputId": "2d43750d-afc7-4318-8fa8-b9f6ebb2ec3d"
      },
      "outputs": [
        {
          "output_type": "stream",
          "name": "stdout",
          "text": [
            "There is floor number -2 in this building.\n"
          ]
        }
      ],
      "source": [
        "# Verify code cell 19\n",
        "el.go_to_floor(-2)"
      ]
    },
    {
      "cell_type": "code",
      "execution_count": 78,
      "metadata": {
        "scrolled": true,
        "id": "6ihI8mVhVruK",
        "colab": {
          "base_uri": "https://localhost:8080/"
        },
        "outputId": "3eff9adc-4325-4a91-d6ae-aec05c1586be"
      },
      "outputs": [
        {
          "output_type": "stream",
          "name": "stdout",
          "text": [
            "The Offices floor is the number: 2.\n"
          ]
        }
      ],
      "source": [
        "# Verify code cell 20\n",
        "el.ask_which_floor('Offices')"
      ]
    },
    {
      "cell_type": "code",
      "execution_count": 79,
      "metadata": {
        "id": "EFkxcj7ZVruK",
        "colab": {
          "base_uri": "https://localhost:8080/"
        },
        "outputId": "3cb59370-a932-4059-bb41-48013f051ef1"
      },
      "outputs": [
        {
          "output_type": "stream",
          "name": "stdout",
          "text": [
            "There is no Swimming Pool floor in this building.\n"
          ]
        }
      ],
      "source": [
        "# Verify code cell 21\n",
        "el.ask_which_floor('Swimming Pool')"
      ]
    },
    {
      "cell_type": "markdown",
      "metadata": {
        "id": "BQ-tF8TLVruK"
      },
      "source": [
        "# Great job!"
      ]
    }
  ],
  "metadata": {
    "anaconda-cloud": {},
    "kernelspec": {
      "display_name": "Python 3",
      "language": "python",
      "name": "python3"
    },
    "language_info": {
      "codemirror_mode": {
        "name": "ipython",
        "version": 3
      },
      "file_extension": ".py",
      "mimetype": "text/x-python",
      "name": "python",
      "nbconvert_exporter": "python",
      "pygments_lexer": "ipython3",
      "version": "3.6.4"
    },
    "colab": {
      "provenance": [],
      "collapsed_sections": [],
      "include_colab_link": true
    }
  },
  "nbformat": 4,
  "nbformat_minor": 0
}